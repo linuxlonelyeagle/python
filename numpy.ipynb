{
 "cells": [
  {
   "cell_type": "code",
   "execution_count": 2,
   "id": "e58818d2",
   "metadata": {},
   "outputs": [],
   "source": [
    "import numpy as np"
   ]
  },
  {
   "cell_type": "code",
   "execution_count": 2,
   "id": "b693c959",
   "metadata": {},
   "outputs": [
    {
     "data": {
      "text/plain": [
       "array([[1, 0, 0, 0, 0],\n",
       "       [0, 1, 0, 0, 0],\n",
       "       [0, 0, 1, 0, 0],\n",
       "       [0, 0, 0, 1, 0],\n",
       "       [0, 0, 0, 0, 1]])"
      ]
     },
     "execution_count": 2,
     "metadata": {},
     "output_type": "execute_result"
    }
   ],
   "source": [
    "##生成特征矩阵\n",
    "np.eye(5,dtype=int)       "
   ]
  },
  {
   "cell_type": "code",
   "execution_count": 3,
   "id": "12acbd72",
   "metadata": {},
   "outputs": [
    {
     "data": {
      "text/plain": [
       "array([[1., 0., 0., 0., 0.],\n",
       "       [0., 1., 0., 0., 0.],\n",
       "       [0., 0., 1., 0., 0.],\n",
       "       [0., 0., 0., 1., 0.],\n",
       "       [0., 0., 0., 0., 1.]])"
      ]
     },
     "execution_count": 3,
     "metadata": {},
     "output_type": "execute_result"
    }
   ],
   "source": [
    "np.eye(5)"
   ]
  },
  {
   "cell_type": "code",
   "execution_count": 4,
   "id": "3d329bb7",
   "metadata": {},
   "outputs": [
    {
     "data": {
      "text/plain": [
       "array([[0, 1, 0, 0],\n",
       "       [0, 0, 1, 0],\n",
       "       [0, 0, 0, 1],\n",
       "       [0, 0, 0, 0]])"
      ]
     },
     "execution_count": 4,
     "metadata": {},
     "output_type": "execute_result"
    }
   ],
   "source": [
    "np.eye(4,dtype=int,k=1)"
   ]
  },
  {
   "cell_type": "code",
   "execution_count": 5,
   "id": "dfa573ac",
   "metadata": {},
   "outputs": [
    {
     "data": {
      "text/plain": [
       "array([[0, 0, 1, 0],\n",
       "       [0, 0, 0, 1],\n",
       "       [0, 0, 0, 0],\n",
       "       [0, 0, 0, 0]])"
      ]
     },
     "execution_count": 5,
     "metadata": {},
     "output_type": "execute_result"
    }
   ],
   "source": [
    "np.eye(4,dtype=int,k=2)"
   ]
  },
  {
   "cell_type": "code",
   "execution_count": 13,
   "id": "8e66323b",
   "metadata": {},
   "outputs": [
    {
     "data": {
      "text/plain": [
       "array([[1., 0., 0., 0., 0.],\n",
       "       [0., 1., 0., 0., 0.],\n",
       "       [0., 0., 1., 0., 0.],\n",
       "       [0., 0., 0., 1., 0.],\n",
       "       [0., 0., 0., 0., 1.]])"
      ]
     },
     "execution_count": 13,
     "metadata": {},
     "output_type": "execute_result"
    }
   ],
   "source": [
    "np.identity(5)"
   ]
  },
  {
   "cell_type": "code",
   "execution_count": 14,
   "id": "17f9c625",
   "metadata": {},
   "outputs": [
    {
     "data": {
      "text/plain": [
       "array([[1, 0, 0, 0, 0],\n",
       "       [0, 1, 0, 0, 0],\n",
       "       [0, 0, 1, 0, 0],\n",
       "       [0, 0, 0, 1, 0],\n",
       "       [0, 0, 0, 0, 1]])"
      ]
     },
     "execution_count": 14,
     "metadata": {},
     "output_type": "execute_result"
    }
   ],
   "source": [
    "np.identity(5,dtype=int)"
   ]
  },
  {
   "cell_type": "code",
   "execution_count": 3,
   "id": "fb65bcda",
   "metadata": {},
   "outputs": [],
   "source": [
    "arr=np.arange(32).reshape(4,8)"
   ]
  },
  {
   "cell_type": "code",
   "execution_count": 4,
   "id": "65cf8ade",
   "metadata": {},
   "outputs": [
    {
     "data": {
      "text/plain": [
       "array([[ 0,  1,  2,  3,  4,  5,  6,  7],\n",
       "       [ 8,  9, 10, 11, 12, 13, 14, 15],\n",
       "       [16, 17, 18, 19, 20, 21, 22, 23],\n",
       "       [24, 25, 26, 27, 28, 29, 30, 31]])"
      ]
     },
     "execution_count": 4,
     "metadata": {},
     "output_type": "execute_result"
    }
   ],
   "source": [
    "arr"
   ]
  },
  {
   "cell_type": "code",
   "execution_count": 5,
   "id": "b2452707",
   "metadata": {},
   "outputs": [
    {
     "data": {
      "text/plain": [
       "array([ 1, 10, 19, 28])"
      ]
     },
     "execution_count": 5,
     "metadata": {},
     "output_type": "execute_result"
    }
   ],
   "source": [
    "arr[[0,1,2,3],[1,2,3,4]]"
   ]
  },
  {
   "cell_type": "code",
   "execution_count": 6,
   "id": "e9a305b3",
   "metadata": {},
   "outputs": [],
   "source": [
    "arr=np.arange(24).reshape(4,6)\n"
   ]
  },
  {
   "cell_type": "code",
   "execution_count": 7,
   "id": "5229dc5d",
   "metadata": {},
   "outputs": [
    {
     "data": {
      "text/plain": [
       "array([[ 0,  1,  2,  3,  4,  5],\n",
       "       [ 6,  7,  8,  9, 10, 11],\n",
       "       [12, 13, 14, 15, 16, 17],\n",
       "       [18, 19, 20, 21, 22, 23]])"
      ]
     },
     "execution_count": 7,
     "metadata": {},
     "output_type": "execute_result"
    }
   ],
   "source": [
    "arr"
   ]
  },
  {
   "cell_type": "code",
   "execution_count": 8,
   "id": "3b295e69",
   "metadata": {},
   "outputs": [
    {
     "data": {
      "text/plain": [
       "array([[ 0,  6, 12, 18],\n",
       "       [ 1,  7, 13, 19],\n",
       "       [ 2,  8, 14, 20],\n",
       "       [ 3,  9, 15, 21],\n",
       "       [ 4, 10, 16, 22],\n",
       "       [ 5, 11, 17, 23]])"
      ]
     },
     "execution_count": 8,
     "metadata": {},
     "output_type": "execute_result"
    }
   ],
   "source": [
    "arr.transpose()\n"
   ]
  },
  {
   "cell_type": "code",
   "execution_count": 9,
   "id": "e451b8a7",
   "metadata": {},
   "outputs": [],
   "source": [
    "arr=np.arange(10)"
   ]
  },
  {
   "cell_type": "code",
   "execution_count": 13,
   "id": "619be8ae",
   "metadata": {},
   "outputs": [
    {
     "data": {
      "text/plain": [
       "array([0, 1, 2, 3, 4, 5, 6, 7, 8, 9])"
      ]
     },
     "execution_count": 13,
     "metadata": {},
     "output_type": "execute_result"
    }
   ],
   "source": [
    "arr"
   ]
  },
  {
   "cell_type": "code",
   "execution_count": 14,
   "id": "67e1c064",
   "metadata": {},
   "outputs": [
    {
     "data": {
      "text/plain": [
       "array([0.        , 1.        , 1.41421356, 1.73205081, 2.        ,\n",
       "       2.23606798, 2.44948974, 2.64575131, 2.82842712, 3.        ])"
      ]
     },
     "execution_count": 14,
     "metadata": {},
     "output_type": "execute_result"
    }
   ],
   "source": [
    "np.sqrt(arr)"
   ]
  },
  {
   "cell_type": "code",
   "execution_count": 15,
   "id": "8d25ac91",
   "metadata": {},
   "outputs": [
    {
     "data": {
      "text/plain": [
       "array([0, 1, 2, 3, 4, 5, 6, 7, 8, 9])"
      ]
     },
     "execution_count": 15,
     "metadata": {},
     "output_type": "execute_result"
    }
   ],
   "source": [
    "arr"
   ]
  },
  {
   "cell_type": "code",
   "execution_count": 12,
   "id": "cb8b86e1",
   "metadata": {},
   "outputs": [
    {
     "ename": "AttributeError",
     "evalue": "'numpy.ndarray' object has no attribute 'sqrt'",
     "output_type": "error",
     "traceback": [
      "\u001b[0;31m---------------------------------------------------------------------------\u001b[0m",
      "\u001b[0;31mAttributeError\u001b[0m                            Traceback (most recent call last)",
      "\u001b[0;32m<ipython-input-12-f43ba37cfe2b>\u001b[0m in \u001b[0;36m<module>\u001b[0;34m\u001b[0m\n\u001b[0;32m----> 1\u001b[0;31m \u001b[0marr\u001b[0m\u001b[0;34m.\u001b[0m\u001b[0msqrt\u001b[0m\u001b[0;34m(\u001b[0m\u001b[0;34m)\u001b[0m  \u001b[0;31m##这个是不行的，因为np是这个库里面的函数，不是数组的成员\u001b[0m\u001b[0;34m\u001b[0m\u001b[0;34m\u001b[0m\u001b[0m\n\u001b[0m",
      "\u001b[0;31mAttributeError\u001b[0m: 'numpy.ndarray' object has no attribute 'sqrt'"
     ]
    }
   ],
   "source": [
    "arr.sqrt()  ##这个是不行的，因为np是这个库里面的函数，不是数组的成员"
   ]
  },
  {
   "cell_type": "code",
   "execution_count": 21,
   "id": "6a272992",
   "metadata": {},
   "outputs": [],
   "source": [
    "arr=np.random.randn(10)"
   ]
  },
  {
   "cell_type": "code",
   "execution_count": 22,
   "id": "e472ba00",
   "metadata": {},
   "outputs": [
    {
     "data": {
      "text/plain": [
       "array([ 0.47793663,  0.88367405, -0.60618997, -2.31442197,  0.48498994,\n",
       "        0.78408367, -0.5741835 , -2.44817335,  0.86662492,  0.77477577])"
      ]
     },
     "execution_count": 22,
     "metadata": {},
     "output_type": "execute_result"
    }
   ],
   "source": [
    "arr"
   ]
  },
  {
   "cell_type": "code",
   "execution_count": 25,
   "id": "60d1f2eb",
   "metadata": {},
   "outputs": [],
   "source": [
    "i,f=np.modf(arr)"
   ]
  },
  {
   "cell_type": "code",
   "execution_count": 26,
   "id": "ae00ecc7",
   "metadata": {},
   "outputs": [
    {
     "data": {
      "text/plain": [
       "array([ 0.47793663,  0.88367405, -0.60618997, -0.31442197,  0.48498994,\n",
       "        0.78408367, -0.5741835 , -0.44817335,  0.86662492,  0.77477577])"
      ]
     },
     "execution_count": 26,
     "metadata": {},
     "output_type": "execute_result"
    }
   ],
   "source": [
    "i"
   ]
  },
  {
   "cell_type": "code",
   "execution_count": 27,
   "id": "2f08e74c",
   "metadata": {},
   "outputs": [
    {
     "data": {
      "text/plain": [
       "array([ 0.,  0., -0., -2.,  0.,  0., -0., -2.,  0.,  0.])"
      ]
     },
     "execution_count": 27,
     "metadata": {},
     "output_type": "execute_result"
    }
   ],
   "source": [
    "f"
   ]
  },
  {
   "cell_type": "code",
   "execution_count": 30,
   "id": "cafdf853",
   "metadata": {},
   "outputs": [],
   "source": [
    "arr.dtype=int   "
   ]
  },
  {
   "cell_type": "code",
   "execution_count": 32,
   "id": "ef925da0",
   "metadata": {},
   "outputs": [
    {
     "data": {
      "text/plain": [
       "array([ 4602281360834235979,  4606134647770530922, -4619736743430444514,\n",
       "       -4610978003085540032,  4602408421943768639,  4605237617398258326,\n",
       "       -4620025032136965386, -4610676821754613575,  4605981082911541209,\n",
       "        4605153779323334551])"
      ]
     },
     "execution_count": 32,
     "metadata": {},
     "output_type": "execute_result"
    }
   ],
   "source": [
    "arr"
   ]
  },
  {
   "cell_type": "code",
   "execution_count": 41,
   "id": "10eb9e74",
   "metadata": {},
   "outputs": [
    {
     "data": {
      "text/plain": [
       "array([-4602281360834235980, -4606134647770530923,  4619736743430444513,\n",
       "        4610978003085540031, -4602408421943768640, -4605237617398258327,\n",
       "        4620025032136965385,  4610676821754613574, -4605981082911541210,\n",
       "       -4605153779323334552])"
      ]
     },
     "execution_count": 41,
     "metadata": {},
     "output_type": "execute_result"
    }
   ],
   "source": [
    "~arr  ##改变数子的符号   "
   ]
  },
  {
   "cell_type": "code",
   "execution_count": 42,
   "id": "83c852bb",
   "metadata": {},
   "outputs": [
    {
     "data": {
      "text/plain": [
       "array([False, False, False, False, False, False, False, False, False,\n",
       "       False])"
      ]
     },
     "execution_count": 42,
     "metadata": {},
     "output_type": "execute_result"
    }
   ],
   "source": [
    "np.logical_not(arr)"
   ]
  },
  {
   "cell_type": "code",
   "execution_count": 50,
   "id": "e04084c8",
   "metadata": {},
   "outputs": [],
   "source": [
    "arr=np.ones_like(3)"
   ]
  },
  {
   "cell_type": "code",
   "execution_count": 51,
   "id": "d300f27d",
   "metadata": {},
   "outputs": [
    {
     "data": {
      "text/plain": [
       "array(1)"
      ]
     },
     "execution_count": 51,
     "metadata": {},
     "output_type": "execute_result"
    }
   ],
   "source": [
    "arr"
   ]
  },
  {
   "cell_type": "code",
   "execution_count": 53,
   "id": "b0486732",
   "metadata": {},
   "outputs": [],
   "source": [
    "arr=np.ones_like((520,1314))"
   ]
  },
  {
   "cell_type": "code",
   "execution_count": 55,
   "id": "bcf2c0d8",
   "metadata": {},
   "outputs": [
    {
     "data": {
      "text/plain": [
       "array([1, 1])"
      ]
     },
     "execution_count": 55,
     "metadata": {},
     "output_type": "execute_result"
    }
   ],
   "source": [
    "arr"
   ]
  },
  {
   "cell_type": "code",
   "execution_count": 57,
   "id": "41d80e9c",
   "metadata": {},
   "outputs": [],
   "source": [
    "arr=np.arange(9).reshape(3,3)"
   ]
  },
  {
   "cell_type": "code",
   "execution_count": 58,
   "id": "a70fb2b3",
   "metadata": {},
   "outputs": [
    {
     "data": {
      "text/plain": [
       "array([[0, 1, 2],\n",
       "       [3, 4, 5],\n",
       "       [6, 7, 8]])"
      ]
     },
     "execution_count": 58,
     "metadata": {},
     "output_type": "execute_result"
    }
   ],
   "source": [
    "arr"
   ]
  },
  {
   "cell_type": "code",
   "execution_count": 59,
   "id": "53911846",
   "metadata": {},
   "outputs": [],
   "source": [
    "arr=np.ones_like(arr)"
   ]
  },
  {
   "cell_type": "code",
   "execution_count": 60,
   "id": "b02fb9c4",
   "metadata": {},
   "outputs": [
    {
     "data": {
      "text/plain": [
       "array([[1, 1, 1],\n",
       "       [1, 1, 1],\n",
       "       [1, 1, 1]])"
      ]
     },
     "execution_count": 60,
     "metadata": {},
     "output_type": "execute_result"
    }
   ],
   "source": [
    "arr"
   ]
  },
  {
   "cell_type": "code",
   "execution_count": 63,
   "id": "a361b4fc",
   "metadata": {},
   "outputs": [],
   "source": [
    "arr=np.ones((3,3))"
   ]
  },
  {
   "cell_type": "code",
   "execution_count": 65,
   "id": "1a39ae4d",
   "metadata": {},
   "outputs": [
    {
     "data": {
      "text/plain": [
       "array([[1., 1., 1.],\n",
       "       [1., 1., 1.],\n",
       "       [1., 1., 1.]])"
      ]
     },
     "execution_count": 65,
     "metadata": {},
     "output_type": "execute_result"
    }
   ],
   "source": [
    "arr"
   ]
  },
  {
   "cell_type": "code",
   "execution_count": 67,
   "id": "78ec5190",
   "metadata": {},
   "outputs": [],
   "source": [
    "obj=np.subtract(arr,1)   ##去除指定的元素"
   ]
  },
  {
   "cell_type": "code",
   "execution_count": 69,
   "id": "8d1c2c66",
   "metadata": {},
   "outputs": [
    {
     "data": {
      "text/plain": [
       "array([[0., 0., 0.],\n",
       "       [0., 0., 0.],\n",
       "       [0., 0., 0.]])"
      ]
     },
     "execution_count": 69,
     "metadata": {},
     "output_type": "execute_result"
    }
   ],
   "source": [
    "obj"
   ]
  },
  {
   "cell_type": "code",
   "execution_count": 70,
   "id": "8db55196",
   "metadata": {},
   "outputs": [],
   "source": [
    "arr1=np.arange(9).reshape(3,3)"
   ]
  },
  {
   "cell_type": "code",
   "execution_count": 72,
   "id": "dfad6ee8",
   "metadata": {},
   "outputs": [],
   "source": [
    "arr2=np.arange(9).reshape(3,3)"
   ]
  },
  {
   "cell_type": "code",
   "execution_count": 73,
   "id": "8427a74a",
   "metadata": {},
   "outputs": [],
   "source": [
    "arr=arr1*arr2"
   ]
  },
  {
   "cell_type": "code",
   "execution_count": 74,
   "id": "a157f3dd",
   "metadata": {},
   "outputs": [
    {
     "data": {
      "text/plain": [
       "array([[ 0,  1,  4],\n",
       "       [ 9, 16, 25],\n",
       "       [36, 49, 64]])"
      ]
     },
     "execution_count": 74,
     "metadata": {},
     "output_type": "execute_result"
    }
   ],
   "source": [
    "arr"
   ]
  },
  {
   "cell_type": "code",
   "execution_count": 75,
   "id": "5c762e9a",
   "metadata": {},
   "outputs": [],
   "source": [
    "arr=np.multiply(arr1,arr2)    ##乘法跟*是一样的"
   ]
  },
  {
   "cell_type": "code",
   "execution_count": 76,
   "id": "a728320e",
   "metadata": {},
   "outputs": [
    {
     "data": {
      "text/plain": [
       "array([[ 0,  1,  4],\n",
       "       [ 9, 16, 25],\n",
       "       [36, 49, 64]])"
      ]
     },
     "execution_count": 76,
     "metadata": {},
     "output_type": "execute_result"
    }
   ],
   "source": [
    "arr"
   ]
  },
  {
   "cell_type": "code",
   "execution_count": 77,
   "id": "8abc5884",
   "metadata": {},
   "outputs": [
    {
     "name": "stderr",
     "output_type": "stream",
     "text": [
      "<ipython-input-77-e677913e0f55>:1: RuntimeWarning: invalid value encountered in true_divide\n",
      "  arr1/arr2\n"
     ]
    },
    {
     "data": {
      "text/plain": [
       "array([[nan,  1.,  1.],\n",
       "       [ 1.,  1.,  1.],\n",
       "       [ 1.,  1.,  1.]])"
      ]
     },
     "execution_count": 77,
     "metadata": {},
     "output_type": "execute_result"
    }
   ],
   "source": [
    "arr1/arr2"
   ]
  },
  {
   "cell_type": "code",
   "execution_count": 78,
   "id": "2973386d",
   "metadata": {},
   "outputs": [
    {
     "data": {
      "text/plain": [
       "array([[       1,        1,        4],\n",
       "       [      27,      256,     3125],\n",
       "       [   46656,   823543, 16777216]])"
      ]
     },
     "execution_count": 78,
     "metadata": {},
     "output_type": "execute_result"
    }
   ],
   "source": [
    "np.power(arr1,arr2)    ##第二个参数作为幂次"
   ]
  },
  {
   "cell_type": "code",
   "execution_count": 79,
   "id": "da46ec5e",
   "metadata": {},
   "outputs": [
    {
     "data": {
      "text/plain": [
       "array([[0, 1, 2],\n",
       "       [3, 4, 0],\n",
       "       [1, 2, 3]])"
      ]
     },
     "execution_count": 79,
     "metadata": {},
     "output_type": "execute_result"
    }
   ],
   "source": [
    "arr1%5"
   ]
  },
  {
   "cell_type": "code",
   "execution_count": 82,
   "id": "57f4b4f2",
   "metadata": {},
   "outputs": [
    {
     "data": {
      "text/plain": [
       "array([[0, 1, 2],\n",
       "       [3, 4, 0],\n",
       "       [1, 2, 3]])"
      ]
     },
     "execution_count": 82,
     "metadata": {},
     "output_type": "execute_result"
    }
   ],
   "source": [
    "np.mod(arr1,5)"
   ]
  },
  {
   "cell_type": "code",
   "execution_count": 83,
   "id": "e0463f45",
   "metadata": {},
   "outputs": [],
   "source": [
    "arr=np.random.randn(4,4)"
   ]
  },
  {
   "cell_type": "code",
   "execution_count": 84,
   "id": "3bdcd09d",
   "metadata": {},
   "outputs": [
    {
     "data": {
      "text/plain": [
       "array([[-1.18829812,  1.00012543,  0.85752154, -1.04047989],\n",
       "       [ 0.78077666, -0.22186423,  0.52896081,  0.57759839],\n",
       "       [ 0.81251926, -0.73747018,  0.25062141, -1.6208634 ],\n",
       "       [-0.58821175,  0.09462481, -0.43753957, -0.53489256]])"
      ]
     },
     "execution_count": 84,
     "metadata": {},
     "output_type": "execute_result"
    }
   ],
   "source": [
    "arr"
   ]
  },
  {
   "cell_type": "code",
   "execution_count": 85,
   "id": "9bd7e6cb",
   "metadata": {},
   "outputs": [
    {
     "data": {
      "text/plain": [
       "array([[False,  True,  True, False],\n",
       "       [ True, False,  True,  True],\n",
       "       [ True, False,  True, False],\n",
       "       [False,  True, False, False]])"
      ]
     },
     "execution_count": 85,
     "metadata": {},
     "output_type": "execute_result"
    }
   ],
   "source": [
    "arr>0"
   ]
  },
  {
   "cell_type": "code",
   "execution_count": 87,
   "id": "876c15f5",
   "metadata": {},
   "outputs": [
    {
     "data": {
      "text/plain": [
       "array([[ 2, -2, -2,  2],\n",
       "       [-2,  2, -2, -2],\n",
       "       [-2,  2, -2,  2],\n",
       "       [ 2, -2,  2,  2]])"
      ]
     },
     "execution_count": 87,
     "metadata": {},
     "output_type": "execute_result"
    }
   ],
   "source": [
    "np.where(arr>0,-2,2)   ##where"
   ]
  },
  {
   "cell_type": "code",
   "execution_count": 89,
   "id": "d91d3de3",
   "metadata": {},
   "outputs": [
    {
     "data": {
      "text/plain": [
       "array([[-1.18829812, -2.        , -2.        , -1.04047989],\n",
       "       [-2.        , -0.22186423, -2.        , -2.        ],\n",
       "       [-2.        , -0.73747018, -2.        , -1.6208634 ],\n",
       "       [-0.58821175, -2.        , -0.43753957, -0.53489256]])"
      ]
     },
     "execution_count": 89,
     "metadata": {},
     "output_type": "execute_result"
    }
   ],
   "source": [
    "np.where(arr>0,-2,arr)"
   ]
  },
  {
   "cell_type": "code",
   "execution_count": 90,
   "id": "479a73df",
   "metadata": {},
   "outputs": [],
   "source": [
    "arr=np.random.randn(5,4)"
   ]
  },
  {
   "cell_type": "code",
   "execution_count": 91,
   "id": "cc5b2e35",
   "metadata": {},
   "outputs": [
    {
     "data": {
      "text/plain": [
       "array([[-1.05571311, -0.88079263,  0.0639413 , -0.23853896],\n",
       "       [ 1.01496325, -2.35035178,  0.56304555, -1.60599989],\n",
       "       [-0.4678158 ,  0.25656071, -0.71589397, -1.41397213],\n",
       "       [-1.33093789,  0.0196747 ,  1.5377504 ,  0.65741744],\n",
       "       [-0.96289842, -0.08742375,  0.92815192, -0.2940408 ]])"
      ]
     },
     "execution_count": 91,
     "metadata": {},
     "output_type": "execute_result"
    }
   ],
   "source": [
    "arr"
   ]
  },
  {
   "cell_type": "code",
   "execution_count": 93,
   "id": "af1e61f8",
   "metadata": {},
   "outputs": [
    {
     "data": {
      "text/plain": [
       "-0.3181436936416319"
      ]
     },
     "execution_count": 93,
     "metadata": {},
     "output_type": "execute_result"
    }
   ],
   "source": [
    "np.mean(arr)"
   ]
  },
  {
   "cell_type": "code",
   "execution_count": 94,
   "id": "34db1fe6",
   "metadata": {},
   "outputs": [
    {
     "data": {
      "text/plain": [
       "-0.3181436936416319"
      ]
     },
     "execution_count": 94,
     "metadata": {},
     "output_type": "execute_result"
    }
   ],
   "source": [
    "arr.mean()"
   ]
  },
  {
   "cell_type": "code",
   "execution_count": 3,
   "id": "577b8b53",
   "metadata": {},
   "outputs": [],
   "source": [
    "obj = np.random.randn(10)"
   ]
  },
  {
   "cell_type": "code",
   "execution_count": 5,
   "id": "1b1b1f0e",
   "metadata": {},
   "outputs": [
    {
     "data": {
      "text/plain": [
       "array([-0.1147654 ,  0.36467098,  0.64363408, -1.41058494,  0.15815202,\n",
       "       -1.85664043, -1.29252911,  1.08449885, -1.76056401, -0.82859373])"
      ]
     },
     "execution_count": 5,
     "metadata": {},
     "output_type": "execute_result"
    }
   ],
   "source": [
    "obj"
   ]
  },
  {
   "cell_type": "code",
   "execution_count": 6,
   "id": "ccc96024",
   "metadata": {},
   "outputs": [],
   "source": [
    "obj.sort()"
   ]
  },
  {
   "cell_type": "code",
   "execution_count": 8,
   "id": "f1232466",
   "metadata": {},
   "outputs": [
    {
     "data": {
      "text/plain": [
       "array([-1.85664043, -1.76056401, -1.41058494, -1.29252911, -0.82859373,\n",
       "       -0.1147654 ,  0.15815202,  0.36467098,  0.64363408,  1.08449885])"
      ]
     },
     "execution_count": 8,
     "metadata": {},
     "output_type": "execute_result"
    }
   ],
   "source": [
    "obj      ##也就是说sort方法直接改变了内部的顺序"
   ]
  },
  {
   "cell_type": "code",
   "execution_count": 10,
   "id": "94c5d600",
   "metadata": {},
   "outputs": [],
   "source": [
    "##计算唯一值"
   ]
  },
  {
   "cell_type": "code",
   "execution_count": 14,
   "id": "acc4d551",
   "metadata": {},
   "outputs": [],
   "source": [
    "names = np.array([\"Bob\",\"Joe\",\"Will\",\"Bob\",\"Will\",\"Joe\",\"Joe\"])"
   ]
  },
  {
   "cell_type": "code",
   "execution_count": 17,
   "id": "74a98c92",
   "metadata": {},
   "outputs": [
    {
     "data": {
      "text/plain": [
       "['Bob', 'Joe', 'Will']"
      ]
     },
     "execution_count": 17,
     "metadata": {},
     "output_type": "execute_result"
    }
   ],
   "source": [
    "np.unique(names)    ##这个不仅算唯一值，而且还要排序\n",
    "sorted(set(names))    ##等价"
   ]
  },
  {
   "cell_type": "code",
   "execution_count": 19,
   "id": "f75dd51b",
   "metadata": {},
   "outputs": [],
   "source": [
    "arr1=np.arange(5)\n",
    "arr2=np.arange(2,8)"
   ]
  },
  {
   "cell_type": "code",
   "execution_count": 21,
   "id": "26ccce72",
   "metadata": {},
   "outputs": [
    {
     "data": {
      "text/plain": [
       "array([2, 3, 4])"
      ]
     },
     "execution_count": 21,
     "metadata": {},
     "output_type": "execute_result"
    }
   ],
   "source": [
    "np.intersect1d(arr1,arr2)   ##算交集，并且排序"
   ]
  },
  {
   "cell_type": "code",
   "execution_count": 23,
   "id": "74a3e102",
   "metadata": {},
   "outputs": [
    {
     "data": {
      "text/plain": [
       "array([0, 1, 2, 3, 4, 5, 6, 7])"
      ]
     },
     "execution_count": 23,
     "metadata": {},
     "output_type": "execute_result"
    }
   ],
   "source": [
    "np.union1d(arr1,arr2)     ##并集，并且排序"
   ]
  },
  {
   "cell_type": "code",
   "execution_count": 24,
   "id": "8d6e0421",
   "metadata": {},
   "outputs": [
    {
     "data": {
      "text/plain": [
       "array([False, False,  True,  True,  True])"
      ]
     },
     "execution_count": 24,
     "metadata": {},
     "output_type": "execute_result"
    }
   ],
   "source": [
    "np.in1d(arr1,arr2)    ##看arr1的元素是不是在arr2中"
   ]
  },
  {
   "cell_type": "code",
   "execution_count": 25,
   "id": "caf6f7bf",
   "metadata": {},
   "outputs": [
    {
     "data": {
      "text/plain": [
       "array([0, 1])"
      ]
     },
     "execution_count": 25,
     "metadata": {},
     "output_type": "execute_result"
    }
   ],
   "source": [
    "np.setdiff1d(arr1,arr2)     ##在arr1中，但是不再arr2中的元素  arr1-arr2"
   ]
  },
  {
   "cell_type": "code",
   "execution_count": 26,
   "id": "1bbe3132",
   "metadata": {},
   "outputs": [
    {
     "data": {
      "text/plain": [
       "array([0, 1, 5, 6, 7])"
      ]
     },
     "execution_count": 26,
     "metadata": {},
     "output_type": "execute_result"
    }
   ],
   "source": [
    "np.setxor1d(arr1,arr2)    ##异或集"
   ]
  },
  {
   "cell_type": "code",
   "execution_count": 29,
   "id": "e50efa71",
   "metadata": {},
   "outputs": [],
   "source": [
    "##线性代数\n",
    "import numpy as np"
   ]
  },
  {
   "cell_type": "code",
   "execution_count": 41,
   "id": "80e51182",
   "metadata": {},
   "outputs": [],
   "source": [
    "x=np.array([[1,2,3],[4,5,6]])"
   ]
  },
  {
   "cell_type": "code",
   "execution_count": 43,
   "id": "440320e8",
   "metadata": {},
   "outputs": [],
   "source": [
    "y=np.array([[6,23],[-1,7],[8,9]])"
   ]
  },
  {
   "cell_type": "code",
   "execution_count": 44,
   "id": "07d4e8f0",
   "metadata": {},
   "outputs": [
    {
     "data": {
      "text/plain": [
       "array([[ 28,  64],\n",
       "       [ 67, 181]])"
      ]
     },
     "execution_count": 44,
     "metadata": {},
     "output_type": "execute_result"
    }
   ],
   "source": [
    "np.dot(x,y)   ##点乘"
   ]
  },
  {
   "cell_type": "code",
   "execution_count": 45,
   "id": "035d7db9",
   "metadata": {},
   "outputs": [
    {
     "data": {
      "text/plain": [
       "array([[ 28,  64],\n",
       "       [ 67, 181]])"
      ]
     },
     "execution_count": 45,
     "metadata": {},
     "output_type": "execute_result"
    }
   ],
   "source": [
    "x.dot(y)"
   ]
  },
  {
   "cell_type": "code",
   "execution_count": 46,
   "id": "f17aaa5f",
   "metadata": {},
   "outputs": [
    {
     "data": {
      "text/plain": [
       "array([[ 28,  64],\n",
       "       [ 67, 181]])"
      ]
     },
     "execution_count": 46,
     "metadata": {},
     "output_type": "execute_result"
    }
   ],
   "source": [
    "x@y    ##@是点乘的意思"
   ]
  },
  {
   "cell_type": "code",
   "execution_count": 48,
   "id": "73561ee8",
   "metadata": {},
   "outputs": [],
   "source": [
    "##常用numpy.linalg 函数"
   ]
  },
  {
   "cell_type": "code",
   "execution_count": 49,
   "id": "c2eaab47",
   "metadata": {},
   "outputs": [],
   "source": [
    "from numpy.linalg import inv,qr    ##117页"
   ]
  },
  {
   "cell_type": "code",
   "execution_count": 50,
   "id": "dd450e15",
   "metadata": {},
   "outputs": [],
   "source": [
    "x = np.random.randn(5,5)"
   ]
  },
  {
   "cell_type": "code",
   "execution_count": 51,
   "id": "5543e441",
   "metadata": {},
   "outputs": [
    {
     "data": {
      "text/plain": [
       "array([[-1.31158941,  0.81349892,  0.57135821,  0.2080375 ,  0.47505482],\n",
       "       [ 0.45736118, -2.16034396,  0.16520624,  1.08961917, -1.86645372],\n",
       "       [ 0.37597109,  0.17112959, -0.00226491, -1.56559209,  0.21215891],\n",
       "       [ 0.68128639, -1.9061861 ,  1.06460799,  0.07653662,  1.8985586 ],\n",
       "       [ 0.5512562 ,  1.06906221,  1.14128776, -0.09213867, -1.36599805]])"
      ]
     },
     "execution_count": 51,
     "metadata": {},
     "output_type": "execute_result"
    }
   ],
   "source": [
    "x"
   ]
  },
  {
   "cell_type": "code",
   "execution_count": 52,
   "id": "068542a5",
   "metadata": {},
   "outputs": [],
   "source": [
    "mat = x.T.dot(x)"
   ]
  },
  {
   "cell_type": "code",
   "execution_count": 53,
   "id": "0cb2dede",
   "metadata": {},
   "outputs": [
    {
     "data": {
      "text/plain": [
       "array([[ 2.83883483, -2.70002573,  0.67976488, -0.3617763 , -0.85650749],\n",
       "       [-2.70002573, 10.13459133, -0.70172394, -2.69702804, -0.62439764],\n",
       "       [ 0.67976488, -0.70172394,  2.78967636,  0.2787465 ,  0.42481996],\n",
       "       [-0.3617763 , -2.69702804,  0.2787465 ,  3.69597552, -1.99587835],\n",
       "       [-0.85650749, -0.62439764,  0.42481996, -1.99587835,  9.22481337]])"
      ]
     },
     "execution_count": 53,
     "metadata": {},
     "output_type": "execute_result"
    }
   ],
   "source": [
    "mat"
   ]
  },
  {
   "cell_type": "code",
   "execution_count": 54,
   "id": "1910fac7",
   "metadata": {},
   "outputs": [
    {
     "data": {
      "text/plain": [
       "array([[ 0.86854865,  0.35841991, -0.20259698,  0.47956105,  0.21799115],\n",
       "       [ 0.35841991,  0.27966335, -0.06663468,  0.31028855,  0.12241076],\n",
       "       [-0.20259698, -0.06663468,  0.41600927, -0.13901164, -0.07255559],\n",
       "       [ 0.47956105,  0.31028855, -0.13901164,  0.67174177,  0.21726844],\n",
       "       [ 0.21799115,  0.12241076, -0.07255559,  0.21726844,  0.18727842]])"
      ]
     },
     "execution_count": 54,
     "metadata": {},
     "output_type": "execute_result"
    }
   ],
   "source": [
    "inv(mat)   ##计算逆矩阵"
   ]
  },
  {
   "cell_type": "code",
   "execution_count": 63,
   "id": "eb1aeea8",
   "metadata": {},
   "outputs": [
    {
     "data": {
      "text/plain": [
       "array([[ 1.00000000e+00, -4.90428455e-17, -9.48418680e-17,\n",
       "        -1.42678059e-16, -8.62116136e-17],\n",
       "       [ 4.57499000e-16,  1.00000000e+00,  1.70091296e-16,\n",
       "        -4.28510959e-16, -1.28931409e-16],\n",
       "       [ 1.68615712e-17,  1.38781798e-17,  1.00000000e+00,\n",
       "         3.01779683e-17,  6.40830431e-18],\n",
       "       [-1.35446886e-16, -2.57968953e-16,  1.12054133e-16,\n",
       "         1.00000000e+00, -2.00727168e-16],\n",
       "       [-1.34459101e-16, -9.05664131e-17,  1.09624164e-16,\n",
       "        -6.40462294e-17,  1.00000000e+00]])"
      ]
     },
     "execution_count": 63,
     "metadata": {},
     "output_type": "execute_result"
    }
   ],
   "source": [
    "mat.dot(inv(mat))"
   ]
  },
  {
   "cell_type": "code",
   "execution_count": null,
   "id": "342da3fc",
   "metadata": {},
   "outputs": [],
   "source": [
    "##计算qr 分解"
   ]
  },
  {
   "cell_type": "code",
   "execution_count": 64,
   "id": "4b5cb64f",
   "metadata": {},
   "outputs": [],
   "source": [
    "q,r = qr(mat)"
   ]
  },
  {
   "cell_type": "code",
   "execution_count": 65,
   "id": "85fbd75b",
   "metadata": {},
   "outputs": [
    {
     "data": {
      "text/plain": [
       "array([[-0.69518153, -0.44169075,  0.05132502,  0.04792992,  0.56276139],\n",
       "       [ 0.66118958, -0.66246185, -0.09753351, -0.12081229,  0.31601305],\n",
       "       [-0.16646266, -0.09786668, -0.95890152, -0.09019914, -0.18730798],\n",
       "       [ 0.08859276,  0.49138213, -0.11390677, -0.65047385,  0.56089566],\n",
       "       [ 0.20974386,  0.33914494, -0.23534245,  0.74286943,  0.48347405]])"
      ]
     },
     "execution_count": 65,
     "metadata": {},
     "output_type": "execute_result"
    }
   ],
   "source": [
    "q"
   ]
  },
  {
   "cell_type": "code",
   "execution_count": 66,
   "id": "8506d09a",
   "metadata": {},
   "outputs": [
    {
     "data": {
      "text/plain": [
       "array([[-4.08358783,  8.32480431, -1.28711119, -1.66933409,  1.86989394],\n",
       "       [ 0.        , -6.98956098,  0.17264971,  3.05843572,  2.89818517],\n",
       "       [ 0.        ,  0.        , -2.70342365,  0.0259103 , -2.33406725],\n",
       "       [ 0.        ,  0.        ,  0.        , -3.60346093,  8.14716275],\n",
       "       [ 0.        ,  0.        ,  0.        ,  0.        ,  2.58157903]])"
      ]
     },
     "execution_count": 66,
     "metadata": {},
     "output_type": "execute_result"
    }
   ],
   "source": [
    "r"
   ]
  },
  {
   "cell_type": "code",
   "execution_count": 67,
   "id": "91038f96",
   "metadata": {},
   "outputs": [
    {
     "data": {
      "text/plain": [
       "array([[ 2.83883483, -2.70002573,  0.67976488, -0.3617763 , -0.85650749],\n",
       "       [-2.70002573, 10.13459133, -0.70172394, -2.69702804, -0.62439764],\n",
       "       [ 0.67976488, -0.70172394,  2.78967636,  0.2787465 ,  0.42481996],\n",
       "       [-0.3617763 , -2.69702804,  0.2787465 ,  3.69597552, -1.99587835],\n",
       "       [-0.85650749, -0.62439764,  0.42481996, -1.99587835,  9.22481337]])"
      ]
     },
     "execution_count": 67,
     "metadata": {},
     "output_type": "execute_result"
    }
   ],
   "source": [
    "mat"
   ]
  },
  {
   "cell_type": "code",
   "execution_count": 1,
   "id": "e7c6b0dc",
   "metadata": {},
   "outputs": [],
   "source": [
    "import numpy as np"
   ]
  },
  {
   "cell_type": "code",
   "execution_count": 3,
   "id": "9d2bb041",
   "metadata": {},
   "outputs": [],
   "source": [
    "#伪随机数生成"
   ]
  },
  {
   "cell_type": "code",
   "execution_count": 4,
   "id": "75b20ebf",
   "metadata": {},
   "outputs": [],
   "source": [
    "##normal 生成多种概率分别下的完整样本数组"
   ]
  },
  {
   "cell_type": "code",
   "execution_count": 5,
   "id": "e3c78508",
   "metadata": {},
   "outputs": [],
   "source": [
    "samples = np.random.normal(size=(4,4))  ##4*4的正态分布样本数组"
   ]
  },
  {
   "cell_type": "code",
   "execution_count": 6,
   "id": "df5a7921",
   "metadata": {},
   "outputs": [
    {
     "data": {
      "text/plain": [
       "array([[-2.90525066,  0.02948251, -0.68964314, -0.37432241],\n",
       "       [-0.14799507,  1.09388626, -0.22734819, -0.82912388],\n",
       "       [ 1.16120063,  1.45052885,  0.1827467 , -1.32311111],\n",
       "       [ 2.18035458,  0.5968726 , -0.5173006 , -1.53567331]])"
      ]
     },
     "execution_count": 6,
     "metadata": {},
     "output_type": "execute_result"
    }
   ],
   "source": [
    "samples"
   ]
  },
  {
   "cell_type": "code",
   "execution_count": 7,
   "id": "aa7e71a6",
   "metadata": {},
   "outputs": [],
   "source": [
    "##但是numpy.random 一次只能生成一个值"
   ]
  },
  {
   "cell_type": "code",
   "execution_count": 8,
   "id": "c83abace",
   "metadata": {},
   "outputs": [],
   "source": [
    "arr = np.random.permutation(10)    ##隐式的调用了np.arange"
   ]
  },
  {
   "cell_type": "code",
   "execution_count": 9,
   "id": "61537db7",
   "metadata": {},
   "outputs": [
    {
     "data": {
      "text/plain": [
       "array([5, 2, 8, 4, 0, 7, 3, 1, 9, 6])"
      ]
     },
     "execution_count": 9,
     "metadata": {},
     "output_type": "execute_result"
    }
   ],
   "source": [
    "arr"
   ]
  },
  {
   "cell_type": "code",
   "execution_count": 10,
   "id": "33c877c5",
   "metadata": {},
   "outputs": [],
   "source": [
    "arr = np.arange(9).reshape((3,3))"
   ]
  },
  {
   "cell_type": "code",
   "execution_count": 11,
   "id": "ea28d049",
   "metadata": {},
   "outputs": [
    {
     "data": {
      "text/plain": [
       "array([[0, 1, 2],\n",
       "       [3, 4, 5],\n",
       "       [6, 7, 8]])"
      ]
     },
     "execution_count": 11,
     "metadata": {},
     "output_type": "execute_result"
    }
   ],
   "source": [
    "arr"
   ]
  },
  {
   "cell_type": "code",
   "execution_count": 14,
   "id": "3bd88787",
   "metadata": {},
   "outputs": [
    {
     "data": {
      "text/plain": [
       "array([[0, 1, 2],\n",
       "       [6, 7, 8],\n",
       "       [3, 4, 5]])"
      ]
     },
     "execution_count": 14,
     "metadata": {},
     "output_type": "execute_result"
    }
   ],
   "source": [
    "np.random.permutation(arr)"
   ]
  },
  {
   "cell_type": "code",
   "execution_count": 1,
   "id": "e482de52",
   "metadata": {},
   "outputs": [],
   "source": [
    "import numpy as np"
   ]
  },
  {
   "cell_type": "code",
   "execution_count": 2,
   "id": "93227575",
   "metadata": {},
   "outputs": [],
   "source": [
    "names = np.array(['小明','小黄','小花','小明','小花','小兰','小白'])"
   ]
  },
  {
   "cell_type": "code",
   "execution_count": 3,
   "id": "655d4f01",
   "metadata": {},
   "outputs": [
    {
     "name": "stdout",
     "output_type": "stream",
     "text": [
      "去重后的数组为 ['小兰' '小明' '小白' '小花' '小黄']\n"
     ]
    }
   ],
   "source": [
    "print(\"去重后的数组为\",np.unique(names))"
   ]
  },
  {
   "cell_type": "code",
   "execution_count": 4,
   "id": "14f5b9e9",
   "metadata": {},
   "outputs": [],
   "source": [
    "#跟np.unique等价的python代码实现过程"
   ]
  },
  {
   "cell_type": "code",
   "execution_count": 5,
   "id": "84e8b8b2",
   "metadata": {},
   "outputs": [
    {
     "name": "stdout",
     "output_type": "stream",
     "text": [
      "去重后的数组为 ['小兰', '小明', '小白', '小花', '小黄']\n"
     ]
    }
   ],
   "source": [
    "print('去重后的数组为',sorted(set(names)))"
   ]
  },
  {
   "cell_type": "code",
   "execution_count": 6,
   "id": "dae1a7e6",
   "metadata": {},
   "outputs": [],
   "source": [
    "ints = np.array([1,2,3,4,4,5,6,6,7,8,8,9,10])"
   ]
  },
  {
   "cell_type": "code",
   "execution_count": 7,
   "id": "1a37e20a",
   "metadata": {},
   "outputs": [
    {
     "name": "stdout",
     "output_type": "stream",
     "text": [
      "创建的数组为 [ 1  2  3  4  4  5  6  6  7  8  8  9 10]\n"
     ]
    }
   ],
   "source": [
    "print('创建的数组为',ints)"
   ]
  },
  {
   "cell_type": "code",
   "execution_count": 8,
   "id": "3460467f",
   "metadata": {},
   "outputs": [
    {
     "name": "stdout",
     "output_type": "stream",
     "text": [
      "去重后的数组为 [ 1  2  3  4  5  6  7  8  9 10]\n"
     ]
    }
   ],
   "source": [
    "print('去重后的数组为',np.unique(ints))"
   ]
  },
  {
   "cell_type": "code",
   "execution_count": 9,
   "id": "b1c54c8b",
   "metadata": {},
   "outputs": [],
   "source": [
    "##使用tile函数实现数据重复"
   ]
  },
  {
   "cell_type": "code",
   "execution_count": 10,
   "id": "364f5f16",
   "metadata": {},
   "outputs": [],
   "source": [
    "arr = np.arange(5)"
   ]
  },
  {
   "cell_type": "code",
   "execution_count": 11,
   "id": "8a072960",
   "metadata": {},
   "outputs": [
    {
     "name": "stdout",
     "output_type": "stream",
     "text": [
      "创建的数组为 [0 1 2 3 4]\n"
     ]
    }
   ],
   "source": [
    "print('创建的数组为',arr)"
   ]
  },
  {
   "cell_type": "code",
   "execution_count": 12,
   "id": "35871665",
   "metadata": {},
   "outputs": [
    {
     "name": "stdout",
     "output_type": "stream",
     "text": [
      "重复后数组为 [0 1 2 3 4 0 1 2 3 4 0 1 2 3 4]\n"
     ]
    }
   ],
   "source": [
    "print('重复后数组为',np.tile(arr,3))"
   ]
  },
  {
   "cell_type": "code",
   "execution_count": 13,
   "id": "43d0c742",
   "metadata": {},
   "outputs": [],
   "source": [
    "arr = np.random.randint(0,10,size=(3,3))"
   ]
  },
  {
   "cell_type": "code",
   "execution_count": 14,
   "id": "98ed6e43",
   "metadata": {},
   "outputs": [
    {
     "name": "stdout",
     "output_type": "stream",
     "text": [
      "创建的数组为 [[5 0 9]\n",
      " [7 7 8]\n",
      " [6 1 5]]\n"
     ]
    }
   ],
   "source": [
    "print('创建的数组为',arr)"
   ]
  },
  {
   "cell_type": "code",
   "execution_count": 15,
   "id": "d751ebd3",
   "metadata": {},
   "outputs": [
    {
     "name": "stdout",
     "output_type": "stream",
     "text": [
      "重复的数组为:  [[5 0 9]\n",
      " [5 0 9]\n",
      " [7 7 8]\n",
      " [7 7 8]\n",
      " [6 1 5]\n",
      " [6 1 5]]\n"
     ]
    }
   ],
   "source": [
    "print('重复的数组为: ',arr.repeat(2,axis=0))"
   ]
  },
  {
   "cell_type": "code",
   "execution_count": 17,
   "id": "91fa9cbb",
   "metadata": {},
   "outputs": [
    {
     "name": "stdout",
     "output_type": "stream",
     "text": [
      "重复的数组为:  [[5 5 0 0 9 9]\n",
      " [7 7 7 7 8 8]\n",
      " [6 6 1 1 5 5]]\n"
     ]
    }
   ],
   "source": [
    "print('重复的数组为: ',arr.repeat(2,axis = 1))"
   ]
  },
  {
   "cell_type": "code",
   "execution_count": null,
   "id": "6e4ecc47",
   "metadata": {},
   "outputs": [],
   "source": [
    "##当axis参数为0时，表示沿着纵轴进行计算，当axis为1时，表示沿着横轴进行计算"
   ]
  },
  {
   "cell_type": "code",
   "execution_count": 18,
   "id": "e55792c7",
   "metadata": {},
   "outputs": [],
   "source": [
    "arr = np.arange(20).reshape(4,5)"
   ]
  },
  {
   "cell_type": "code",
   "execution_count": 19,
   "id": "5ff77234",
   "metadata": {},
   "outputs": [
    {
     "data": {
      "text/plain": [
       "array([[ 0,  1,  2,  3,  4],\n",
       "       [ 5,  6,  7,  8,  9],\n",
       "       [10, 11, 12, 13, 14],\n",
       "       [15, 16, 17, 18, 19]])"
      ]
     },
     "execution_count": 19,
     "metadata": {},
     "output_type": "execute_result"
    }
   ],
   "source": [
    "arr"
   ]
  },
  {
   "cell_type": "code",
   "execution_count": 20,
   "id": "e901c8ce",
   "metadata": {},
   "outputs": [
    {
     "name": "stdout",
     "output_type": "stream",
     "text": [
      "数组的和为: 190\n"
     ]
    }
   ],
   "source": [
    "print('数组的和为:',np.sum(arr))"
   ]
  },
  {
   "cell_type": "code",
   "execution_count": 21,
   "id": "4793edc6",
   "metadata": {},
   "outputs": [
    {
     "name": "stdout",
     "output_type": "stream",
     "text": [
      "数组的纵轴的和为: [30 34 38 42 46]\n"
     ]
    }
   ],
   "source": [
    "print('数组的纵轴的和为:',np.sum(arr,axis=0))"
   ]
  },
  {
   "cell_type": "code",
   "execution_count": 22,
   "id": "c8f715b9",
   "metadata": {},
   "outputs": [
    {
     "name": "stdout",
     "output_type": "stream",
     "text": [
      "数组的横轴的和为: [10 35 60 85]\n"
     ]
    }
   ],
   "source": [
    "print('数组的横轴的和为:',np.sum(arr,axis=1))"
   ]
  },
  {
   "cell_type": "code",
   "execution_count": 23,
   "id": "a1972e97",
   "metadata": {},
   "outputs": [
    {
     "name": "stdout",
     "output_type": "stream",
     "text": [
      "数组的均值为: 9.5\n"
     ]
    }
   ],
   "source": [
    "print('数组的均值为:',np.mean(arr))   "
   ]
  },
  {
   "cell_type": "code",
   "execution_count": 24,
   "id": "1060aaf4",
   "metadata": {},
   "outputs": [
    {
     "name": "stdout",
     "output_type": "stream",
     "text": [
      "数组的纵轴的均值为: [ 7.5  8.5  9.5 10.5 11.5]\n"
     ]
    }
   ],
   "source": [
    "print('数组的纵轴的均值为:',arr.mean(axis = 0))"
   ]
  },
  {
   "cell_type": "code",
   "execution_count": null,
   "id": "ce85963b",
   "metadata": {},
   "outputs": [],
   "source": []
  }
 ],
 "metadata": {
  "kernelspec": {
   "display_name": "Python 3",
   "language": "python",
   "name": "python3"
  },
  "language_info": {
   "codemirror_mode": {
    "name": "ipython",
    "version": 3
   },
   "file_extension": ".py",
   "mimetype": "text/x-python",
   "name": "python",
   "nbconvert_exporter": "python",
   "pygments_lexer": "ipython3",
   "version": "3.9.5"
  }
 },
 "nbformat": 4,
 "nbformat_minor": 5
}
