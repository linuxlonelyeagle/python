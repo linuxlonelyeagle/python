{
 "cells": [
  {
   "cell_type": "markdown",
   "id": "7763e044",
   "metadata": {},
   "source": [
    "# python"
   ]
  },
  {
   "cell_type": "markdown",
   "id": "9e1a906a",
   "metadata": {},
   "source": [
    "## python"
   ]
  },
  {
   "cell_type": "markdown",
   "id": "d05359eb",
   "metadata": {},
   "source": [
    "##### python"
   ]
  },
  {
   "cell_type": "markdown",
   "id": "19b4f88a",
   "metadata": {},
   "source": [
    "* python\n",
    "* python1\n",
    "* python2"
   ]
  },
  {
   "cell_type": "markdown",
   "id": "c8b707a1",
   "metadata": {},
   "source": [
    "1. python\n",
    "2. python\n",
    "3. python"
   ]
  },
  {
   "cell_type": "markdown",
   "id": "ba1122c1",
   "metadata": {},
   "source": [
    "**python**\n",
    "__python__"
   ]
  },
  {
   "cell_type": "markdown",
   "id": "5c76f858",
   "metadata": {},
   "source": [
    "***python***\n",
    "_python_"
   ]
  },
  {
   "cell_type": "markdown",
   "id": "31cd7b88",
   "metadata": {},
   "source": [
    "python数据分析\n",
    "**python数据分析**\n",
    "***python数据分析***\n",
    "_python数据分析_\n",
    "__python数据分析__"
   ]
  }
 ],
 "metadata": {
  "kernelspec": {
   "display_name": "Python 3",
   "language": "python",
   "name": "python3"
  },
  "language_info": {
   "codemirror_mode": {
    "name": "ipython",
    "version": 3
   },
   "file_extension": ".py",
   "mimetype": "text/x-python",
   "name": "python",
   "nbconvert_exporter": "python",
   "pygments_lexer": "ipython3",
   "version": "3.9.5"
  }
 },
 "nbformat": 4,
 "nbformat_minor": 5
}
