{
 "cells": [
  {
   "cell_type": "code",
   "execution_count": 2,
   "id": "fee64b0d",
   "metadata": {},
   "outputs": [],
   "source": [
    "import numpy as np"
   ]
  },
  {
   "cell_type": "code",
   "execution_count": 3,
   "id": "c916cc48",
   "metadata": {},
   "outputs": [],
   "source": [
    "arr = np.empty((8,4))"
   ]
  },
  {
   "cell_type": "code",
   "execution_count": 4,
   "id": "ddf3aa9b",
   "metadata": {},
   "outputs": [
    {
     "data": {
      "text/plain": [
       "array([[4.66263256e-310, 0.00000000e+000, 6.94251001e-310,\n",
       "        6.94253665e-310],\n",
       "       [6.94253658e-310, 6.94253655e-310, 6.94253658e-310,\n",
       "        6.94253664e-310],\n",
       "       [6.94251023e-310, 6.94252717e-310, 6.94253656e-310,\n",
       "        6.94253656e-310],\n",
       "       [6.94253664e-310, 6.94253665e-310, 6.94253664e-310,\n",
       "        6.94252717e-310],\n",
       "       [6.94251001e-310, 6.94253596e-310, 6.94253601e-310,\n",
       "        6.94253662e-310],\n",
       "       [6.94253664e-310, 6.94253666e-310, 6.94253606e-310,\n",
       "        6.94253665e-310],\n",
       "       [6.94253665e-310, 6.94253659e-310, 0.00000000e+000,\n",
       "        0.00000000e+000],\n",
       "       [0.00000000e+000, 0.00000000e+000, 0.00000000e+000,\n",
       "        0.00000000e+000]])"
      ]
     },
     "execution_count": 4,
     "metadata": {},
     "output_type": "execute_result"
    }
   ],
   "source": [
    "arr"
   ]
  },
  {
   "cell_type": "code",
   "execution_count": 5,
   "id": "57f27fb2",
   "metadata": {},
   "outputs": [],
   "source": [
    "for i in range(8):\n",
    "    arr[i] = i"
   ]
  },
  {
   "cell_type": "code",
   "execution_count": 6,
   "id": "73e20b79",
   "metadata": {},
   "outputs": [
    {
     "data": {
      "text/plain": [
       "array([[4., 4., 4., 4.],\n",
       "       [3., 3., 3., 3.],\n",
       "       [0., 0., 0., 0.],\n",
       "       [6., 6., 6., 6.]])"
      ]
     },
     "execution_count": 6,
     "metadata": {},
     "output_type": "execute_result"
    }
   ],
   "source": [
    "arr[[4,3,0,6]]"
   ]
  },
  {
   "cell_type": "code",
   "execution_count": 8,
   "id": "4d082017",
   "metadata": {},
   "outputs": [
    {
     "data": {
      "text/plain": [
       "array([[5., 5., 5., 5.],\n",
       "       [3., 3., 3., 3.],\n",
       "       [1., 1., 1., 1.]])"
      ]
     },
     "execution_count": 8,
     "metadata": {},
     "output_type": "execute_result"
    }
   ],
   "source": [
    "arr[[-3,-5,-7]]"
   ]
  },
  {
   "cell_type": "code",
   "execution_count": 11,
   "id": "7a9312cd",
   "metadata": {},
   "outputs": [],
   "source": [
    "arr = np.arange(32).reshape((8,4))"
   ]
  },
  {
   "cell_type": "code",
   "execution_count": 12,
   "id": "fa7ff2c3",
   "metadata": {},
   "outputs": [
    {
     "data": {
      "text/plain": [
       "array([[ 0,  1,  2,  3],\n",
       "       [ 4,  5,  6,  7],\n",
       "       [ 8,  9, 10, 11],\n",
       "       [12, 13, 14, 15],\n",
       "       [16, 17, 18, 19],\n",
       "       [20, 21, 22, 23],\n",
       "       [24, 25, 26, 27],\n",
       "       [28, 29, 30, 31]])"
      ]
     },
     "execution_count": 12,
     "metadata": {},
     "output_type": "execute_result"
    }
   ],
   "source": [
    "arr "
   ]
  },
  {
   "cell_type": "code",
   "execution_count": 14,
   "id": "a3083377",
   "metadata": {},
   "outputs": [
    {
     "data": {
      "text/plain": [
       "array([ 4, 23, 29, 10])"
      ]
     },
     "execution_count": 14,
     "metadata": {},
     "output_type": "execute_result"
    }
   ],
   "source": [
    "arr[[1,5,7,2],[0,3,1,2]]"
   ]
  },
  {
   "cell_type": "code",
   "execution_count": 16,
   "id": "ee6ff613",
   "metadata": {},
   "outputs": [
    {
     "data": {
      "text/plain": [
       "array([[ 4,  7,  5,  6],\n",
       "       [20, 23, 21, 22],\n",
       "       [28, 31, 29, 30],\n",
       "       [ 8, 11,  9, 10]])"
      ]
     },
     "execution_count": 16,
     "metadata": {},
     "output_type": "execute_result"
    }
   ],
   "source": [
    "arr[[1,5,7,2]][:,[0,3,1,2]]    #注意,神奇的索引与切片不一样,他总是将数据复制到一个心的数组中"
   ]
  },
  {
   "cell_type": "code",
   "execution_count": 17,
   "id": "2e50683f",
   "metadata": {},
   "outputs": [],
   "source": [
    "##modf返回数组的小数部分和整数部分"
   ]
  },
  {
   "cell_type": "code",
   "execution_count": 19,
   "id": "cb1b8416",
   "metadata": {},
   "outputs": [],
   "source": [
    "arr = np.random.randn(7)*5"
   ]
  },
  {
   "cell_type": "code",
   "execution_count": 20,
   "id": "a3bde8c3",
   "metadata": {},
   "outputs": [],
   "source": [
    "remainder, whole = np.modf(arr)"
   ]
  },
  {
   "cell_type": "code",
   "execution_count": 21,
   "id": "fab23b26",
   "metadata": {},
   "outputs": [
    {
     "data": {
      "text/plain": [
       "array([-0.01375874,  0.60997666, -0.85968035,  0.82144043, -0.85271688,\n",
       "       -0.97222882, -0.78620047])"
      ]
     },
     "execution_count": 21,
     "metadata": {},
     "output_type": "execute_result"
    }
   ],
   "source": [
    "remainder"
   ]
  },
  {
   "cell_type": "code",
   "execution_count": 22,
   "id": "6b820376",
   "metadata": {},
   "outputs": [
    {
     "data": {
      "text/plain": [
       "array([ -4.,   8.,  -3.,   0.,  -0.,  -0., -12.])"
      ]
     },
     "execution_count": 22,
     "metadata": {},
     "output_type": "execute_result"
    }
   ],
   "source": [
    "whole"
   ]
  },
  {
   "cell_type": "code",
   "execution_count": 23,
   "id": "90a55bb7",
   "metadata": {},
   "outputs": [],
   "source": [
    "##布尔数组的方法"
   ]
  },
  {
   "cell_type": "code",
   "execution_count": 24,
   "id": "b0f71a2f",
   "metadata": {},
   "outputs": [],
   "source": [
    "arr = np.random.randn(100)"
   ]
  },
  {
   "cell_type": "code",
   "execution_count": 25,
   "id": "0ab0c247",
   "metadata": {},
   "outputs": [
    {
     "data": {
      "text/plain": [
       "array([ 2.21280556e-01,  6.76682802e-01, -1.36468175e+00, -6.15965374e-01,\n",
       "       -1.49957384e+00,  1.17037429e+00,  8.09999784e-01, -2.31414742e-01,\n",
       "        7.06650922e-01,  6.03658099e-01, -2.37728879e-01, -2.07711339e+00,\n",
       "       -1.23581054e+00,  6.09567961e-01, -4.72507793e-01, -7.51010299e-01,\n",
       "       -1.10615087e-02,  3.93110784e-01, -1.30734246e-01, -9.14921735e-01,\n",
       "       -4.30087441e-01, -1.14842614e+00, -5.56213930e-01, -1.11517006e-01,\n",
       "       -1.12114906e+00, -1.45531698e+00,  8.21384549e-01, -6.60240765e-01,\n",
       "       -1.01486903e+00, -2.02546404e+00,  3.12993009e-01,  1.86014443e+00,\n",
       "       -1.94270703e+00,  1.09674752e+00, -3.19743425e-01, -5.27148852e-01,\n",
       "       -8.17840388e-01,  3.45889352e-02, -8.66487934e-01, -6.13915328e-01,\n",
       "        2.16242819e-01,  2.00060970e+00,  4.18147565e-01, -1.08998125e-01,\n",
       "        1.73029462e-02, -1.89546979e+00,  5.22746996e-01,  3.14340200e-01,\n",
       "       -5.13059681e-01, -1.25505538e+00, -5.84538142e-01, -1.07230129e+00,\n",
       "       -6.74627524e-01, -1.75216833e-03,  2.55748140e+00, -2.23238959e+00,\n",
       "        6.59444982e-01, -1.75421107e+00, -7.31329384e-01,  1.64550417e-01,\n",
       "        2.76166080e-01, -1.58150456e+00, -4.88733347e-01,  3.53801408e-02,\n",
       "       -3.99872824e-01,  5.26714567e-01, -1.21829474e+00,  3.24503396e-01,\n",
       "        2.44284879e-01, -7.02297310e-01, -1.26939268e+00,  6.11094224e-01,\n",
       "       -5.39861038e-01,  3.75337478e-01, -6.46189047e-01,  5.24188499e-01,\n",
       "       -1.07980803e+00, -4.79401529e-01, -8.26846341e-01,  2.06145334e+00,\n",
       "        1.91657571e+00,  4.91289672e-01, -5.67356935e-01,  7.09691856e-01,\n",
       "       -8.71385252e-01, -2.79938277e+00, -5.61976711e-01, -2.15351814e+00,\n",
       "       -4.95818159e-01,  4.82388946e-01, -1.26982482e+00, -5.22981965e-01,\n",
       "        4.87072385e-02, -1.22545600e+00, -1.54388447e+00, -1.12233831e+00,\n",
       "       -1.41564933e+00,  3.21427207e-01, -5.96619924e-01, -9.67673240e-01])"
      ]
     },
     "execution_count": 25,
     "metadata": {},
     "output_type": "execute_result"
    }
   ],
   "source": [
    "arr"
   ]
  },
  {
   "cell_type": "code",
   "execution_count": 26,
   "id": "5e726f33",
   "metadata": {},
   "outputs": [
    {
     "data": {
      "text/plain": [
       "37"
      ]
     },
     "execution_count": 26,
     "metadata": {},
     "output_type": "execute_result"
    }
   ],
   "source": [
    "(arr > 0).sum()     //这个就是返回正数的个数"
   ]
  },
  {
   "cell_type": "code",
   "execution_count": 27,
   "id": "b6e86f32",
   "metadata": {},
   "outputs": [],
   "source": [
    "##any只要有一个true就是true \n",
    "##all 全部是true就是true"
   ]
  },
  {
   "cell_type": "code",
   "execution_count": 28,
   "id": "ab398db0",
   "metadata": {},
   "outputs": [],
   "source": [
    "bools = np.array([False,False,True,False])"
   ]
  },
  {
   "cell_type": "code",
   "execution_count": 29,
   "id": "63595df0",
   "metadata": {},
   "outputs": [
    {
     "data": {
      "text/plain": [
       "True"
      ]
     },
     "execution_count": 29,
     "metadata": {},
     "output_type": "execute_result"
    }
   ],
   "source": [
    "bools.any()"
   ]
  },
  {
   "cell_type": "code",
   "execution_count": 30,
   "id": "15f4751b",
   "metadata": {},
   "outputs": [
    {
     "data": {
      "text/plain": [
       "False"
      ]
     },
     "execution_count": 30,
     "metadata": {},
     "output_type": "execute_result"
    }
   ],
   "source": [
    "bools.all()"
   ]
  },
  {
   "cell_type": "code",
   "execution_count": 31,
   "id": "a701e8b6",
   "metadata": {},
   "outputs": [],
   "source": [
    "#使用数组进行文件输入和输出"
   ]
  },
  {
   "cell_type": "code",
   "execution_count": 32,
   "id": "b213f934",
   "metadata": {},
   "outputs": [],
   "source": [
    "arr = np.arange(10)"
   ]
  },
  {
   "cell_type": "code",
   "execution_count": 33,
   "id": "9bfd2489",
   "metadata": {},
   "outputs": [
    {
     "data": {
      "text/plain": [
       "array([0, 1, 2, 3, 4, 5, 6, 7, 8, 9])"
      ]
     },
     "execution_count": 33,
     "metadata": {},
     "output_type": "execute_result"
    }
   ],
   "source": [
    "arr"
   ]
  },
  {
   "cell_type": "code",
   "execution_count": 34,
   "id": "37960d23",
   "metadata": {},
   "outputs": [],
   "source": [
    "np.save(\"some_array\",arr)"
   ]
  },
  {
   "cell_type": "code",
   "execution_count": 36,
   "id": "68fae4b3",
   "metadata": {},
   "outputs": [
    {
     "data": {
      "text/plain": [
       "array([0, 1, 2, 3, 4, 5, 6, 7, 8, 9])"
      ]
     },
     "execution_count": 36,
     "metadata": {},
     "output_type": "execute_result"
    }
   ],
   "source": [
    "np.load(\"some_array.npy\")    ##记住这里必须要加上npy这个后缀"
   ]
  },
  {
   "cell_type": "code",
   "execution_count": null,
   "id": "18cf02d8",
   "metadata": {},
   "outputs": [],
   "source": [
    "#将数组作为参数传递给参数"
   ]
  },
  {
   "cell_type": "code",
   "execution_count": 37,
   "id": "99180ea4",
   "metadata": {},
   "outputs": [],
   "source": [
    "np.savez('array_archive.npz',a = arr, b = arr)"
   ]
  },
  {
   "cell_type": "code",
   "execution_count": 38,
   "id": "48cced1d",
   "metadata": {},
   "outputs": [],
   "source": [
    "arch = np.load('array_archive.npz')"
   ]
  },
  {
   "cell_type": "code",
   "execution_count": 39,
   "id": "f37270ef",
   "metadata": {},
   "outputs": [
    {
     "data": {
      "text/plain": [
       "array([0, 1, 2, 3, 4, 5, 6, 7, 8, 9])"
      ]
     },
     "execution_count": 39,
     "metadata": {},
     "output_type": "execute_result"
    }
   ],
   "source": [
    "arch['a']"
   ]
  },
  {
   "cell_type": "code",
   "execution_count": 40,
   "id": "cf7a741d",
   "metadata": {},
   "outputs": [
    {
     "data": {
      "text/plain": [
       "array([0, 1, 2, 3, 4, 5, 6, 7, 8, 9])"
      ]
     },
     "execution_count": 40,
     "metadata": {},
     "output_type": "execute_result"
    }
   ],
   "source": [
    "arch['b']"
   ]
  },
  {
   "cell_type": "code",
   "execution_count": 41,
   "id": "c3590be2",
   "metadata": {},
   "outputs": [],
   "source": [
    "#中缀操作符"
   ]
  },
  {
   "cell_type": "code",
   "execution_count": 43,
   "id": "ded23a12",
   "metadata": {},
   "outputs": [],
   "source": [
    "x = np.array([[1,2,3],[4,5,6]])"
   ]
  },
  {
   "cell_type": "code",
   "execution_count": 45,
   "id": "b0126611",
   "metadata": {},
   "outputs": [
    {
     "data": {
      "text/plain": [
       "array([ 6., 15.])"
      ]
     },
     "execution_count": 45,
     "metadata": {},
     "output_type": "execute_result"
    }
   ],
   "source": [
    "x @ np.ones(3)"
   ]
  },
  {
   "cell_type": "code",
   "execution_count": 46,
   "id": "b5e2fe12",
   "metadata": {},
   "outputs": [
    {
     "data": {
      "text/plain": [
       "array([1., 1., 1.])"
      ]
     },
     "execution_count": 46,
     "metadata": {},
     "output_type": "execute_result"
    }
   ],
   "source": [
    "np.ones(3)"
   ]
  },
  {
   "cell_type": "code",
   "execution_count": 48,
   "id": "10e8252e",
   "metadata": {},
   "outputs": [],
   "source": [
    "arr = np.random.randn(4,4)"
   ]
  },
  {
   "cell_type": "code",
   "execution_count": 51,
   "id": "cf0a6716",
   "metadata": {},
   "outputs": [
    {
     "data": {
      "text/plain": [
       "array([[ True,  True, False,  True],\n",
       "       [False, False, False, False],\n",
       "       [False,  True,  True, False],\n",
       "       [False,  True, False,  True]])"
      ]
     },
     "execution_count": 51,
     "metadata": {},
     "output_type": "execute_result"
    }
   ],
   "source": [
    "arr > 0\n"
   ]
  },
  {
   "cell_type": "code",
   "execution_count": 52,
   "id": "8d628a58",
   "metadata": {},
   "outputs": [
    {
     "data": {
      "text/plain": [
       "array([0.85218812, 0.5119974 , 0.68554139, 1.8697318 , 0.22928077,\n",
       "       0.5203641 , 0.77822919])"
      ]
     },
     "execution_count": 52,
     "metadata": {},
     "output_type": "execute_result"
    }
   ],
   "source": [
    "arr[arr>0]"
   ]
  },
  {
   "cell_type": "code",
   "execution_count": null,
   "id": "c6eae350",
   "metadata": {},
   "outputs": [],
   "source": []
  }
 ],
 "metadata": {
  "kernelspec": {
   "display_name": "Python 3",
   "language": "python",
   "name": "python3"
  },
  "language_info": {
   "codemirror_mode": {
    "name": "ipython",
    "version": 3
   },
   "file_extension": ".py",
   "mimetype": "text/x-python",
   "name": "python",
   "nbconvert_exporter": "python",
   "pygments_lexer": "ipython3",
   "version": "3.9.6"
  }
 },
 "nbformat": 4,
 "nbformat_minor": 5
}
